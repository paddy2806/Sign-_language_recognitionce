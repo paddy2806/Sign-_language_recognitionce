{
  "nbformat": 4,
  "nbformat_minor": 0,
  "metadata": {
    "colab": {
      "name": "Untitled3.ipynb",
      "provenance": []
    },
    "kernelspec": {
      "name": "python3",
      "display_name": "Python 3"
    },
    "language_info": {
      "name": "python"
    }
  },
  "cells": [
    {
      "cell_type": "code",
      "execution_count": 1,
      "metadata": {
        "colab": {
          "base_uri": "https://localhost:8080/"
        },
        "id": "6UTSubTgdr4w",
        "outputId": "d7c409f7-de77-4dc3-f96c-dd4d9eba25d2"
      },
      "outputs": [
        {
          "output_type": "stream",
          "name": "stdout",
          "text": [
            "Looking in indexes: https://pypi.org/simple, https://us-python.pkg.dev/colab-wheels/public/simple/\n",
            "Collecting opendatasets\n",
            "  Downloading opendatasets-0.1.22-py3-none-any.whl (15 kB)\n",
            "Requirement already satisfied: tqdm in /usr/local/lib/python3.7/dist-packages (from opendatasets) (4.64.0)\n",
            "Requirement already satisfied: click in /usr/local/lib/python3.7/dist-packages (from opendatasets) (7.1.2)\n",
            "Requirement already satisfied: kaggle in /usr/local/lib/python3.7/dist-packages (from opendatasets) (1.5.12)\n",
            "Requirement already satisfied: urllib3 in /usr/local/lib/python3.7/dist-packages (from kaggle->opendatasets) (1.24.3)\n",
            "Requirement already satisfied: certifi in /usr/local/lib/python3.7/dist-packages (from kaggle->opendatasets) (2022.6.15)\n",
            "Requirement already satisfied: python-slugify in /usr/local/lib/python3.7/dist-packages (from kaggle->opendatasets) (6.1.2)\n",
            "Requirement already satisfied: requests in /usr/local/lib/python3.7/dist-packages (from kaggle->opendatasets) (2.23.0)\n",
            "Requirement already satisfied: python-dateutil in /usr/local/lib/python3.7/dist-packages (from kaggle->opendatasets) (2.8.2)\n",
            "Requirement already satisfied: six>=1.10 in /usr/local/lib/python3.7/dist-packages (from kaggle->opendatasets) (1.15.0)\n",
            "Requirement already satisfied: text-unidecode>=1.3 in /usr/local/lib/python3.7/dist-packages (from python-slugify->kaggle->opendatasets) (1.3)\n",
            "Requirement already satisfied: idna<3,>=2.5 in /usr/local/lib/python3.7/dist-packages (from requests->kaggle->opendatasets) (2.10)\n",
            "Requirement already satisfied: chardet<4,>=3.0.2 in /usr/local/lib/python3.7/dist-packages (from requests->kaggle->opendatasets) (3.0.4)\n",
            "Installing collected packages: opendatasets\n",
            "Successfully installed opendatasets-0.1.22\n"
          ]
        }
      ],
      "source": [
        "pip install opendatasets"
      ]
    },
    {
      "cell_type": "markdown",
      "source": [
        "<h3>Downloading Dataset</h3>"
      ],
      "metadata": {
        "id": "8Xt4uGVSeVd6"
      }
    },
    {
      "cell_type": "code",
      "source": [
        "import opendatasets as od\n",
        "  \n",
        "od.download(\n",
        "    \"https://www.kaggle.com/datasets/grassknoted/asl-alphabet\")"
      ],
      "metadata": {
        "colab": {
          "base_uri": "https://localhost:8080/"
        },
        "id": "ROkq8emYdtyF",
        "outputId": "835ca0d1-6f87-4d76-e865-982e55f51974"
      },
      "execution_count": 2,
      "outputs": [
        {
          "output_type": "stream",
          "name": "stdout",
          "text": [
            "Please provide your Kaggle credentials to download this dataset. Learn more: http://bit.ly/kaggle-creds\n",
            "Your Kaggle username: yadnikam\n",
            "Your Kaggle Key: ··········\n",
            "Downloading asl-alphabet.zip to ./asl-alphabet\n"
          ]
        },
        {
          "output_type": "stream",
          "name": "stderr",
          "text": [
            "100%|██████████| 1.03G/1.03G [00:08<00:00, 136MB/s]\n"
          ]
        },
        {
          "output_type": "stream",
          "name": "stdout",
          "text": [
            "\n"
          ]
        }
      ]
    },
    {
      "cell_type": "code",
      "source": [
        "import tensorflow as tf"
      ],
      "metadata": {
        "id": "fE9p4ATVdt3l"
      },
      "execution_count": 3,
      "outputs": []
    },
    {
      "cell_type": "markdown",
      "source": [
        "<h3>Data Generation</h3>"
      ],
      "metadata": {
        "id": "rtXSq8CAecyc"
      }
    },
    {
      "cell_type": "code",
      "source": [
        "datagen = tf.keras.preprocessing.image.ImageDataGenerator(\n",
        "    rescale=1./255,\n",
        "    validation_split=0.2\n",
        ")\n",
        "\n",
        "train_generator = datagen.flow_from_directory(\n",
        "    directory=r\"/content/asl-alphabet/asl_alphabet_train/asl_alphabet_train\",\n",
        "    target_size=(200, 200),\n",
        "    color_mode=\"rgb\",\n",
        "    batch_size=32,\n",
        "    class_mode=\"categorical\",\n",
        "    shuffle=True,\n",
        "    seed=42,\n",
        "    subset='training'\n",
        ")\n",
        "\n",
        "valid_generator = datagen.flow_from_directory(\n",
        "    directory=r\"/content/asl-alphabet/asl_alphabet_train/asl_alphabet_train\",\n",
        "    target_size=(200, 200),\n",
        "    color_mode=\"rgb\",\n",
        "    batch_size=32,\n",
        "    class_mode=\"categorical\",\n",
        "    shuffle=True,\n",
        "    seed=42,\n",
        "    subset='validation'\n",
        "    \n",
        ")\n"
      ],
      "metadata": {
        "colab": {
          "base_uri": "https://localhost:8080/"
        },
        "id": "tg9oCCWDdt9D",
        "outputId": "5bb4c06f-b226-4636-d2dc-400524ded93d"
      },
      "execution_count": 4,
      "outputs": [
        {
          "output_type": "stream",
          "name": "stdout",
          "text": [
            "Found 69600 images belonging to 29 classes.\n",
            "Found 17400 images belonging to 29 classes.\n"
          ]
        }
      ]
    },
    {
      "cell_type": "markdown",
      "source": [
        "<h3>Creating the Model</h3>"
      ],
      "metadata": {
        "id": "nAEODMBXelGD"
      }
    },
    {
      "cell_type": "code",
      "source": [
        "def build_model(num_classes):\n",
        "    model = tf.keras.Sequential([\n",
        "    \n",
        "    \n",
        "    tf.keras.layers.Conv2D(filters=16, kernel_size=(3, 3), activation='relu',input_shape= (200,200,3)),\n",
        "    tf.keras.layers.MaxPooling2D(pool_size=(2, 2), strides=2),\n",
        "\n",
        "    tf.keras.layers.Conv2D(filters=16, kernel_size=(3, 3), activation='relu'),\n",
        "    tf.keras.layers.MaxPooling2D(pool_size=(2, 2), strides=2),\n",
        "\n",
        "    tf.keras.layers.Conv2D(filters=32, kernel_size=(3, 3), activation='relu'),\n",
        "    tf.keras.layers.MaxPooling2D(pool_size=(2, 2), strides=2),\n",
        "    \n",
        "    tf.keras.layers.Flatten(),\n",
        "    tf.keras.layers.Dense(64, activation='relu'),\n",
        "    tf.keras.layers.Dense(num_classes, activation='softmax')\n",
        "    ])\n",
        "    return model"
      ],
      "metadata": {
        "id": "vBiCNXIBduDb"
      },
      "execution_count": 5,
      "outputs": []
    },
    {
      "cell_type": "code",
      "source": [
        "model1 = build_model(num_classes=29)"
      ],
      "metadata": {
        "id": "S_xQVatnduJz"
      },
      "execution_count": 6,
      "outputs": []
    },
    {
      "cell_type": "markdown",
      "source": [
        "<h3>Compiling the Model</h3>"
      ],
      "metadata": {
        "id": "XwS8PVTGervM"
      }
    },
    {
      "cell_type": "code",
      "source": [
        "model1.compile(\n",
        "    optimizer=tf.keras.optimizers.Adam(lr=0.001),\n",
        "    loss=tf.keras.losses.CategoricalCrossentropy(from_logits=True),\n",
        "    metrics=['accuracy']\n",
        ")"
      ],
      "metadata": {
        "colab": {
          "base_uri": "https://localhost:8080/"
        },
        "id": "KcKedQ-jduOn",
        "outputId": "6ac7832a-5e14-454a-e1e4-0bc459404176"
      },
      "execution_count": 7,
      "outputs": [
        {
          "output_type": "stream",
          "name": "stderr",
          "text": [
            "/usr/local/lib/python3.7/dist-packages/keras/optimizer_v2/adam.py:105: UserWarning: The `lr` argument is deprecated, use `learning_rate` instead.\n",
            "  super(Adam, self).__init__(name, **kwargs)\n"
          ]
        }
      ]
    },
    {
      "cell_type": "markdown",
      "source": [
        "<h3>Model Summary</h3>"
      ],
      "metadata": {
        "id": "0XMh3tJ-fA-Z"
      }
    },
    {
      "cell_type": "code",
      "source": [
        "print(model1.summary())"
      ],
      "metadata": {
        "colab": {
          "base_uri": "https://localhost:8080/"
        },
        "id": "Z6IDC4w_duSG",
        "outputId": "2fe7fc82-5a3e-4afe-e948-6aae24685180"
      },
      "execution_count": 8,
      "outputs": [
        {
          "output_type": "stream",
          "name": "stdout",
          "text": [
            "Model: \"sequential\"\n",
            "_________________________________________________________________\n",
            " Layer (type)                Output Shape              Param #   \n",
            "=================================================================\n",
            " conv2d (Conv2D)             (None, 198, 198, 16)      448       \n",
            "                                                                 \n",
            " max_pooling2d (MaxPooling2D  (None, 99, 99, 16)       0         \n",
            " )                                                               \n",
            "                                                                 \n",
            " conv2d_1 (Conv2D)           (None, 97, 97, 16)        2320      \n",
            "                                                                 \n",
            " max_pooling2d_1 (MaxPooling  (None, 48, 48, 16)       0         \n",
            " 2D)                                                             \n",
            "                                                                 \n",
            " conv2d_2 (Conv2D)           (None, 46, 46, 32)        4640      \n",
            "                                                                 \n",
            " max_pooling2d_2 (MaxPooling  (None, 23, 23, 32)       0         \n",
            " 2D)                                                             \n",
            "                                                                 \n",
            " flatten (Flatten)           (None, 16928)             0         \n",
            "                                                                 \n",
            " dense (Dense)               (None, 64)                1083456   \n",
            "                                                                 \n",
            " dense_1 (Dense)             (None, 29)                1885      \n",
            "                                                                 \n",
            "=================================================================\n",
            "Total params: 1,092,749\n",
            "Trainable params: 1,092,749\n",
            "Non-trainable params: 0\n",
            "_________________________________________________________________\n",
            "None\n"
          ]
        }
      ]
    },
    {
      "cell_type": "markdown",
      "source": [
        "<h3>Training the Model</h3>"
      ],
      "metadata": {
        "id": "I2EG-SxKfG9D"
      }
    },
    {
      "cell_type": "code",
      "source": [
        "EPOCHS = 20\n",
        "BATCH_SIZE = 128\n",
        "history1 = model1.fit(train_generator,\n",
        "                    steps_per_epoch=train_generator.samples // BATCH_SIZE,\n",
        "                    epochs=EPOCHS,\n",
        "                    validation_data=valid_generator,\n",
        "                    validation_steps=valid_generator.samples // BATCH_SIZE,\n",
        "                  verbose=1\n",
        "                    )"
      ],
      "metadata": {
        "colab": {
          "base_uri": "https://localhost:8080/"
        },
        "id": "XlD_3OR2duWC",
        "outputId": "fefc24c7-6fd3-4375-8dcd-ce086d5861fb"
      },
      "execution_count": null,
      "outputs": [
        {
          "metadata": {
            "tags": null
          },
          "name": "stdout",
          "output_type": "stream",
          "text": [
            "Epoch 1/20\n"
          ]
        },
        {
          "metadata": {
            "tags": null
          },
          "name": "stderr",
          "output_type": "stream",
          "text": [
            "/usr/local/lib/python3.7/dist-packages/tensorflow/python/util/dispatch.py:1082: UserWarning: \"`categorical_crossentropy` received `from_logits=True`, but the `output` argument was produced by a sigmoid or softmax activation and thus does not represent logits. Was this intended?\"\n",
            "  return dispatch_target(*args, **kwargs)\n"
          ]
        },
        {
          "output_type": "stream",
          "name": "stdout",
          "text": [
            "543/543 [==============================] - 497s 914ms/step - loss: 2.3088 - accuracy: 0.3240 - val_loss: 2.0375 - val_accuracy: 0.3521\n",
            "Epoch 2/20\n",
            "543/543 [==============================] - 492s 907ms/step - loss: 0.7450 - accuracy: 0.7556 - val_loss: 1.6398 - val_accuracy: 0.4750\n",
            "Epoch 3/20\n",
            "543/543 [==============================] - 500s 920ms/step - loss: 0.3715 - accuracy: 0.8768 - val_loss: 1.3893 - val_accuracy: 0.6167\n",
            "Epoch 4/20\n",
            "543/543 [==============================] - 499s 919ms/step - loss: 0.2305 - accuracy: 0.9216 - val_loss: 1.3959 - val_accuracy: 0.6275\n",
            "Epoch 5/20\n",
            "543/543 [==============================] - 500s 921ms/step - loss: 0.1599 - accuracy: 0.9468 - val_loss: 1.2851 - val_accuracy: 0.6565\n",
            "Epoch 6/20\n",
            "543/543 [==============================] - 496s 914ms/step - loss: 0.1079 - accuracy: 0.9645 - val_loss: 1.4605 - val_accuracy: 0.6400\n",
            "Epoch 7/20\n",
            "543/543 [==============================] - 493s 909ms/step - loss: 0.1023 - accuracy: 0.9663 - val_loss: 1.6031 - val_accuracy: 0.6118\n",
            "Epoch 8/20\n",
            "543/543 [==============================] - 497s 915ms/step - loss: 0.0875 - accuracy: 0.9715 - val_loss: 1.7092 - val_accuracy: 0.6525\n",
            "Epoch 9/20\n",
            "543/543 [==============================] - 497s 915ms/step - loss: 0.0722 - accuracy: 0.9774 - val_loss: 1.7598 - val_accuracy: 0.6204\n",
            "Epoch 10/20\n",
            "543/543 [==============================] - 495s 912ms/step - loss: 0.0666 - accuracy: 0.9792 - val_loss: 1.5761 - val_accuracy: 0.6521\n",
            "Epoch 11/20\n",
            "543/543 [==============================] - 492s 907ms/step - loss: 0.0671 - accuracy: 0.9785 - val_loss: 2.0396 - val_accuracy: 0.6167\n",
            "Epoch 12/20\n",
            "543/543 [==============================] - 496s 914ms/step - loss: 0.0458 - accuracy: 0.9856 - val_loss: 1.5876 - val_accuracy: 0.6854\n",
            "Epoch 13/20\n",
            "543/543 [==============================] - 496s 913ms/step - loss: 0.0543 - accuracy: 0.9826 - val_loss: 1.5425 - val_accuracy: 0.6914\n",
            "Epoch 14/20\n",
            "543/543 [==============================] - 504s 928ms/step - loss: 0.0483 - accuracy: 0.9837 - val_loss: 1.7523 - val_accuracy: 0.6674\n",
            "Epoch 15/20\n",
            "543/543 [==============================] - 500s 919ms/step - loss: 0.0483 - accuracy: 0.9856 - val_loss: 1.4913 - val_accuracy: 0.6995\n",
            "Epoch 16/20\n",
            "543/543 [==============================] - 501s 923ms/step - loss: 0.0346 - accuracy: 0.9895 - val_loss: 1.4079 - val_accuracy: 0.7162\n",
            "Epoch 17/20\n",
            "543/543 [==============================] - 499s 919ms/step - loss: 0.0299 - accuracy: 0.9908 - val_loss: 1.7143 - val_accuracy: 0.7032\n",
            "Epoch 18/20\n",
            "543/543 [==============================] - 497s 915ms/step - loss: 0.0391 - accuracy: 0.9879 - val_loss: 1.7777 - val_accuracy: 0.6799\n",
            "Epoch 19/20\n",
            "543/543 [==============================] - 495s 911ms/step - loss: 0.0480 - accuracy: 0.9846 - val_loss: 1.6994 - val_accuracy: 0.6951\n",
            "Epoch 20/20\n",
            "511/543 [===========================>..] - ETA: 27s - loss: 0.0318 - accuracy: 0.9905"
          ]
        }
      ]
    },
    {
      "cell_type": "code",
      "source": [
        ""
      ],
      "metadata": {
        "id": "VZt7SjuAduZd"
      },
      "execution_count": null,
      "outputs": []
    },
    {
      "cell_type": "code",
      "source": [
        ""
      ],
      "metadata": {
        "id": "uaYJVam1duc4"
      },
      "execution_count": null,
      "outputs": []
    }
  ]
}